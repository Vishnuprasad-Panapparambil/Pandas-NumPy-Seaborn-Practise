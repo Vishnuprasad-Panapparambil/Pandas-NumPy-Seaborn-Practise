{
 "cells": [
  {
   "cell_type": "markdown",
   "metadata": {},
   "source": [
    "\n",
    "# Covid data set"
   ]
  },
  {
   "cell_type": "code",
   "execution_count": 24,
   "metadata": {},
   "outputs": [],
   "source": [
    "import pandas as pd\n",
    "import numpy as  np\n"
   ]
  },
  {
   "cell_type": "code",
   "execution_count": 2,
   "metadata": {},
   "outputs": [],
   "source": [
    "data=pd.read_csv(\"G:/data_analysis/complete.csv\")\n"
   ]
  },
  {
   "cell_type": "code",
   "execution_count": 3,
   "metadata": {},
   "outputs": [
    {
     "data": {
      "text/html": [
       "<div>\n",
       "<style scoped>\n",
       "    .dataframe tbody tr th:only-of-type {\n",
       "        vertical-align: middle;\n",
       "    }\n",
       "\n",
       "    .dataframe tbody tr th {\n",
       "        vertical-align: top;\n",
       "    }\n",
       "\n",
       "    .dataframe thead th {\n",
       "        text-align: right;\n",
       "    }\n",
       "</style>\n",
       "<table border=\"1\" class=\"dataframe\">\n",
       "  <thead>\n",
       "    <tr style=\"text-align: right;\">\n",
       "      <th></th>\n",
       "      <th>Date</th>\n",
       "      <th>Name of State / UT</th>\n",
       "      <th>Latitude</th>\n",
       "      <th>Longitude</th>\n",
       "      <th>Total Confirmed cases</th>\n",
       "      <th>Death</th>\n",
       "      <th>Cured/Discharged/Migrated</th>\n",
       "      <th>New cases</th>\n",
       "      <th>New deaths</th>\n",
       "      <th>New recovered</th>\n",
       "    </tr>\n",
       "  </thead>\n",
       "  <tbody>\n",
       "    <tr>\n",
       "      <th>0</th>\n",
       "      <td>2020-01-30</td>\n",
       "      <td>Kerala</td>\n",
       "      <td>10.8505</td>\n",
       "      <td>76.2711</td>\n",
       "      <td>1</td>\n",
       "      <td>0</td>\n",
       "      <td>0</td>\n",
       "      <td>0</td>\n",
       "      <td>0</td>\n",
       "      <td>0</td>\n",
       "    </tr>\n",
       "    <tr>\n",
       "      <th>1</th>\n",
       "      <td>2020-01-31</td>\n",
       "      <td>Kerala</td>\n",
       "      <td>10.8505</td>\n",
       "      <td>76.2711</td>\n",
       "      <td>1</td>\n",
       "      <td>0</td>\n",
       "      <td>0</td>\n",
       "      <td>0</td>\n",
       "      <td>0</td>\n",
       "      <td>0</td>\n",
       "    </tr>\n",
       "    <tr>\n",
       "      <th>2</th>\n",
       "      <td>2020-02-01</td>\n",
       "      <td>Kerala</td>\n",
       "      <td>10.8505</td>\n",
       "      <td>76.2711</td>\n",
       "      <td>2</td>\n",
       "      <td>0</td>\n",
       "      <td>0</td>\n",
       "      <td>1</td>\n",
       "      <td>0</td>\n",
       "      <td>0</td>\n",
       "    </tr>\n",
       "    <tr>\n",
       "      <th>3</th>\n",
       "      <td>2020-02-02</td>\n",
       "      <td>Kerala</td>\n",
       "      <td>10.8505</td>\n",
       "      <td>76.2711</td>\n",
       "      <td>3</td>\n",
       "      <td>0</td>\n",
       "      <td>0</td>\n",
       "      <td>1</td>\n",
       "      <td>0</td>\n",
       "      <td>0</td>\n",
       "    </tr>\n",
       "    <tr>\n",
       "      <th>4</th>\n",
       "      <td>2020-02-03</td>\n",
       "      <td>Kerala</td>\n",
       "      <td>10.8505</td>\n",
       "      <td>76.2711</td>\n",
       "      <td>3</td>\n",
       "      <td>0</td>\n",
       "      <td>0</td>\n",
       "      <td>0</td>\n",
       "      <td>0</td>\n",
       "      <td>0</td>\n",
       "    </tr>\n",
       "  </tbody>\n",
       "</table>\n",
       "</div>"
      ],
      "text/plain": [
       "         Date Name of State / UT  Latitude  Longitude  Total Confirmed cases  \\\n",
       "0  2020-01-30             Kerala   10.8505    76.2711                      1   \n",
       "1  2020-01-31             Kerala   10.8505    76.2711                      1   \n",
       "2  2020-02-01             Kerala   10.8505    76.2711                      2   \n",
       "3  2020-02-02             Kerala   10.8505    76.2711                      3   \n",
       "4  2020-02-03             Kerala   10.8505    76.2711                      3   \n",
       "\n",
       "   Death  Cured/Discharged/Migrated  New cases  New deaths  New recovered  \n",
       "0      0                          0          0           0              0  \n",
       "1      0                          0          0           0              0  \n",
       "2      0                          0          1           0              0  \n",
       "3      0                          0          1           0              0  \n",
       "4      0                          0          0           0              0  "
      ]
     },
     "execution_count": 3,
     "metadata": {},
     "output_type": "execute_result"
    }
   ],
   "source": [
    "data.head()"
   ]
  },
  {
   "cell_type": "code",
   "execution_count": 5,
   "metadata": {},
   "outputs": [
    {
     "data": {
      "text/plain": [
       "(3125, 10)"
      ]
     },
     "execution_count": 5,
     "metadata": {},
     "output_type": "execute_result"
    }
   ],
   "source": [
    "data.shape"
   ]
  },
  {
   "cell_type": "code",
   "execution_count": 6,
   "metadata": {},
   "outputs": [
    {
     "data": {
      "text/plain": [
       "RangeIndex(start=0, stop=3125, step=1)"
      ]
     },
     "execution_count": 6,
     "metadata": {},
     "output_type": "execute_result"
    }
   ],
   "source": [
    "data.index"
   ]
  },
  {
   "cell_type": "code",
   "execution_count": 7,
   "metadata": {},
   "outputs": [
    {
     "data": {
      "text/plain": [
       "Index(['Date', 'Name of State / UT', 'Latitude', 'Longitude',\n",
       "       'Total Confirmed cases', 'Death', 'Cured/Discharged/Migrated',\n",
       "       'New cases', 'New deaths', 'New recovered'],\n",
       "      dtype='object')"
      ]
     },
     "execution_count": 7,
     "metadata": {},
     "output_type": "execute_result"
    }
   ],
   "source": [
    "data.columns"
   ]
  },
  {
   "cell_type": "code",
   "execution_count": 8,
   "metadata": {},
   "outputs": [
    {
     "data": {
      "text/plain": [
       "Date                          object\n",
       "Name of State / UT            object\n",
       "Latitude                     float64\n",
       "Longitude                    float64\n",
       "Total Confirmed cases          int64\n",
       "Death                          int64\n",
       "Cured/Discharged/Migrated      int64\n",
       "New cases                      int64\n",
       "New deaths                     int64\n",
       "New recovered                  int64\n",
       "dtype: object"
      ]
     },
     "execution_count": 8,
     "metadata": {},
     "output_type": "execute_result"
    }
   ],
   "source": [
    "data.dtypes\n"
   ]
  },
  {
   "cell_type": "code",
   "execution_count": 12,
   "metadata": {},
   "outputs": [
    {
     "data": {
      "text/plain": [
       "array(['Kerala', 'Delhi', 'Telengana', 'Haryana', 'Rajasthan',\n",
       "       'Uttar Pradesh', 'Tamil Nadu', 'Union Territory of Ladakh',\n",
       "       'Karnataka', 'Maharashtra', 'Punjab',\n",
       "       'Union Territory of Jammu and Kashmir', 'Andhra Pradesh',\n",
       "       'Uttarakhand', 'Odisha', 'Puducherry', 'West Bengal',\n",
       "       'Chhattisgarh', 'Union Territory of Chandigarh', 'Gujarat',\n",
       "       'Chandigarh', 'Himachal Pradesh', 'Jammu and Kashmir', 'Ladakh',\n",
       "       'Madhya Pradesh', 'Bihar', 'Manipur', 'Mizoram',\n",
       "       'Andaman and Nicobar Islands', 'Goa', 'Assam', 'Jharkhand',\n",
       "       'Arunachal Pradesh', 'Tripura', 'Meghalaya',\n",
       "       'Dadra and Nagar Haveli and Daman and Diu', 'Sikkim', 'Nagaland',\n",
       "       'Telangana'], dtype=object)"
      ]
     },
     "execution_count": 12,
     "metadata": {},
     "output_type": "execute_result"
    }
   ],
   "source": [
    "data['Name of State / UT'].unique()"
   ]
  },
  {
   "cell_type": "code",
   "execution_count": 13,
   "metadata": {},
   "outputs": [
    {
     "data": {
      "text/plain": [
       "39"
      ]
     },
     "execution_count": 13,
     "metadata": {},
     "output_type": "execute_result"
    }
   ],
   "source": [
    "data['Name of State / UT'].nunique()"
   ]
  },
  {
   "cell_type": "code",
   "execution_count": 34,
   "metadata": {
    "scrolled": true
   },
   "outputs": [
    {
     "data": {
      "text/plain": [
       "Date                         3125\n",
       "Name of State / UT           3125\n",
       "Latitude                     3125\n",
       "Longitude                    3125\n",
       "Total Confirmed cases        3125\n",
       "Death                        3125\n",
       "Cured/Discharged/Migrated    3125\n",
       "New cases                    3125\n",
       "New deaths                   3125\n",
       "New recovered                3125\n",
       "dtype: int64"
      ]
     },
     "execution_count": 34,
     "metadata": {},
     "output_type": "execute_result"
    }
   ],
   "source": [
    "data.count()"
   ]
  },
  {
   "cell_type": "code",
   "execution_count": 35,
   "metadata": {
    "scrolled": true
   },
   "outputs": [
    {
     "data": {
      "text/plain": [
       "Kerala                                      141\n",
       "Delhi                                       109\n",
       "Uttar Pradesh                               107\n",
       "Rajasthan                                   107\n",
       "Haryana                                     107\n",
       "Tamil Nadu                                  104\n",
       "Karnataka                                   102\n",
       "Maharashtra                                 102\n",
       "Punjab                                      102\n",
       "Telengana                                   102\n",
       "Andhra Pradesh                               99\n",
       "Uttarakhand                                  96\n",
       "Odisha                                       95\n",
       "Puducherry                                   93\n",
       "Chhattisgarh                                 92\n",
       "West Bengal                                  91\n",
       "Gujarat                                      91\n",
       "Ladakh                                       90\n",
       "Madhya Pradesh                               90\n",
       "Jammu and Kashmir                            90\n",
       "Himachal Pradesh                             90\n",
       "Chandigarh                                   90\n",
       "Bihar                                        89\n",
       "Manipur                                      87\n",
       "Mizoram                                      86\n",
       "Andaman and Nicobar Islands                  85\n",
       "Goa                                          85\n",
       "Assam                                        79\n",
       "Jharkhand                                    79\n",
       "Arunachal Pradesh                            77\n",
       "Tripura                                      73\n",
       "Meghalaya                                    66\n",
       "Dadra and Nagar Haveli and Daman and Diu     44\n",
       "Sikkim                                       26\n",
       "Nagaland                                     24\n",
       "Union Territory of Ladakh                    14\n",
       "Union Territory of Jammu and Kashmir         12\n",
       "Telangana                                     7\n",
       "Union Territory of Chandigarh                 2\n",
       "Name: Name of State / UT, dtype: int64"
      ]
     },
     "execution_count": 35,
     "metadata": {},
     "output_type": "execute_result"
    }
   ],
   "source": [
    "data['Name of State / UT'].value_counts()"
   ]
  },
  {
   "cell_type": "code",
   "execution_count": 58,
   "metadata": {},
   "outputs": [],
   "source": [
    "data1=data[(data.Latitude == 10.8505) & (data.Longitude == 76.2711)]\n"
   ]
  },
  {
   "cell_type": "code",
   "execution_count": 72,
   "metadata": {},
   "outputs": [],
   "source": [
    "total_case=data1['New cases'].sum()"
   ]
  },
  {
   "cell_type": "code",
   "execution_count": 73,
   "metadata": {},
   "outputs": [
    {
     "name": "stdout",
     "output_type": "stream",
     "text": [
      "2696\n"
     ]
    }
   ],
   "source": [
    "print(total_case)"
   ]
  },
  {
   "cell_type": "code",
   "execution_count": 76,
   "metadata": {},
   "outputs": [],
   "source": [
    "total_recovered=data1['New recovered'].sum()"
   ]
  },
  {
   "cell_type": "code",
   "execution_count": 77,
   "metadata": {},
   "outputs": [
    {
     "name": "stdout",
     "output_type": "stream",
     "text": [
      "1326\n"
     ]
    }
   ],
   "source": [
    "print(total_recovered)"
   ]
  },
  {
   "cell_type": "code",
   "execution_count": null,
   "metadata": {},
   "outputs": [],
   "source": []
  }
 ],
 "metadata": {
  "kernelspec": {
   "display_name": "Python 3",
   "language": "python",
   "name": "python3"
  },
  "language_info": {
   "codemirror_mode": {
    "name": "ipython",
    "version": 3
   },
   "file_extension": ".py",
   "mimetype": "text/x-python",
   "name": "python",
   "nbconvert_exporter": "python",
   "pygments_lexer": "ipython3",
   "version": "3.8.5"
  }
 },
 "nbformat": 4,
 "nbformat_minor": 4
}
