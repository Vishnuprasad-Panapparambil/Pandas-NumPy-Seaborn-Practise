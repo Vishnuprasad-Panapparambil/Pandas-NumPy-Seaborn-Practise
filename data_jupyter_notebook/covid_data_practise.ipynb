{
 "cells": [
  {
   "cell_type": "markdown",
   "metadata": {},
   "source": [
    "\n",
    "# Covid data set"
   ]
  },
  {
   "cell_type": "code",
   "execution_count": 33,
   "metadata": {},
   "outputs": [],
   "source": [
    "import pandas as pd\n",
    "import numpy as  np\n",
    "import matplotlib.pyplot as plt\n"
   ]
  },
  {
   "cell_type": "code",
   "execution_count": 2,
   "metadata": {},
   "outputs": [],
   "source": [
    "data=pd.read_csv(\"G:/data_analysis/complete.csv\")\n"
   ]
  },
  {
   "cell_type": "code",
   "execution_count": 3,
   "metadata": {},
   "outputs": [
    {
     "data": {
      "text/html": [
       "<div>\n",
       "<style scoped>\n",
       "    .dataframe tbody tr th:only-of-type {\n",
       "        vertical-align: middle;\n",
       "    }\n",
       "\n",
       "    .dataframe tbody tr th {\n",
       "        vertical-align: top;\n",
       "    }\n",
       "\n",
       "    .dataframe thead th {\n",
       "        text-align: right;\n",
       "    }\n",
       "</style>\n",
       "<table border=\"1\" class=\"dataframe\">\n",
       "  <thead>\n",
       "    <tr style=\"text-align: right;\">\n",
       "      <th></th>\n",
       "      <th>Date</th>\n",
       "      <th>State</th>\n",
       "      <th>Latitude</th>\n",
       "      <th>Longitude</th>\n",
       "      <th>Total Confirmed cases</th>\n",
       "      <th>Death</th>\n",
       "      <th>Cured/Discharged/Migrated</th>\n",
       "      <th>New cases</th>\n",
       "      <th>New deaths</th>\n",
       "      <th>New recovered</th>\n",
       "    </tr>\n",
       "  </thead>\n",
       "  <tbody>\n",
       "    <tr>\n",
       "      <th>0</th>\n",
       "      <td>30-01-2020</td>\n",
       "      <td>Kerala</td>\n",
       "      <td>10.8505</td>\n",
       "      <td>76.2711</td>\n",
       "      <td>1</td>\n",
       "      <td>0</td>\n",
       "      <td>0</td>\n",
       "      <td>0</td>\n",
       "      <td>0</td>\n",
       "      <td>0</td>\n",
       "    </tr>\n",
       "    <tr>\n",
       "      <th>1</th>\n",
       "      <td>31-01-2020</td>\n",
       "      <td>Kerala</td>\n",
       "      <td>10.8505</td>\n",
       "      <td>76.2711</td>\n",
       "      <td>1</td>\n",
       "      <td>0</td>\n",
       "      <td>0</td>\n",
       "      <td>0</td>\n",
       "      <td>0</td>\n",
       "      <td>0</td>\n",
       "    </tr>\n",
       "    <tr>\n",
       "      <th>2</th>\n",
       "      <td>01-02-2020</td>\n",
       "      <td>Kerala</td>\n",
       "      <td>10.8505</td>\n",
       "      <td>76.2711</td>\n",
       "      <td>2</td>\n",
       "      <td>0</td>\n",
       "      <td>0</td>\n",
       "      <td>1</td>\n",
       "      <td>0</td>\n",
       "      <td>0</td>\n",
       "    </tr>\n",
       "    <tr>\n",
       "      <th>3</th>\n",
       "      <td>02-02-2020</td>\n",
       "      <td>Kerala</td>\n",
       "      <td>10.8505</td>\n",
       "      <td>76.2711</td>\n",
       "      <td>3</td>\n",
       "      <td>0</td>\n",
       "      <td>0</td>\n",
       "      <td>1</td>\n",
       "      <td>0</td>\n",
       "      <td>0</td>\n",
       "    </tr>\n",
       "    <tr>\n",
       "      <th>4</th>\n",
       "      <td>03-02-2020</td>\n",
       "      <td>Kerala</td>\n",
       "      <td>10.8505</td>\n",
       "      <td>76.2711</td>\n",
       "      <td>3</td>\n",
       "      <td>0</td>\n",
       "      <td>0</td>\n",
       "      <td>0</td>\n",
       "      <td>0</td>\n",
       "      <td>0</td>\n",
       "    </tr>\n",
       "  </tbody>\n",
       "</table>\n",
       "</div>"
      ],
      "text/plain": [
       "         Date   State  Latitude  Longitude  Total Confirmed cases  Death  \\\n",
       "0  30-01-2020  Kerala   10.8505    76.2711                      1      0   \n",
       "1  31-01-2020  Kerala   10.8505    76.2711                      1      0   \n",
       "2  01-02-2020  Kerala   10.8505    76.2711                      2      0   \n",
       "3  02-02-2020  Kerala   10.8505    76.2711                      3      0   \n",
       "4  03-02-2020  Kerala   10.8505    76.2711                      3      0   \n",
       "\n",
       "   Cured/Discharged/Migrated  New cases  New deaths  New recovered  \n",
       "0                          0          0           0              0  \n",
       "1                          0          0           0              0  \n",
       "2                          0          1           0              0  \n",
       "3                          0          1           0              0  \n",
       "4                          0          0           0              0  "
      ]
     },
     "execution_count": 3,
     "metadata": {},
     "output_type": "execute_result"
    }
   ],
   "source": [
    "data.head()"
   ]
  },
  {
   "cell_type": "code",
   "execution_count": 4,
   "metadata": {},
   "outputs": [
    {
     "data": {
      "text/plain": [
       "(3125, 10)"
      ]
     },
     "execution_count": 4,
     "metadata": {},
     "output_type": "execute_result"
    }
   ],
   "source": [
    "data.shape"
   ]
  },
  {
   "cell_type": "code",
   "execution_count": 5,
   "metadata": {},
   "outputs": [
    {
     "data": {
      "text/plain": [
       "RangeIndex(start=0, stop=3125, step=1)"
      ]
     },
     "execution_count": 5,
     "metadata": {},
     "output_type": "execute_result"
    }
   ],
   "source": [
    "data.index"
   ]
  },
  {
   "cell_type": "code",
   "execution_count": 6,
   "metadata": {},
   "outputs": [
    {
     "data": {
      "text/plain": [
       "Index(['Date', 'State', 'Latitude', 'Longitude', 'Total Confirmed cases',\n",
       "       'Death', 'Cured/Discharged/Migrated', 'New cases', 'New deaths',\n",
       "       'New recovered'],\n",
       "      dtype='object')"
      ]
     },
     "execution_count": 6,
     "metadata": {},
     "output_type": "execute_result"
    }
   ],
   "source": [
    "data.columns"
   ]
  },
  {
   "cell_type": "code",
   "execution_count": 7,
   "metadata": {},
   "outputs": [
    {
     "data": {
      "text/plain": [
       "Date                          object\n",
       "State                         object\n",
       "Latitude                     float64\n",
       "Longitude                    float64\n",
       "Total Confirmed cases          int64\n",
       "Death                          int64\n",
       "Cured/Discharged/Migrated      int64\n",
       "New cases                      int64\n",
       "New deaths                     int64\n",
       "New recovered                  int64\n",
       "dtype: object"
      ]
     },
     "execution_count": 7,
     "metadata": {},
     "output_type": "execute_result"
    }
   ],
   "source": [
    "data.dtypes\n"
   ]
  },
  {
   "cell_type": "code",
   "execution_count": 8,
   "metadata": {},
   "outputs": [
    {
     "name": "stdout",
     "output_type": "stream",
     "text": [
      "['Kerala' 'Delhi' 'Telengana' 'Haryana' 'Rajasthan' 'Uttar Pradesh'\n",
      " 'Tamil Nadu' 'Union Territory of Ladakh' 'Karnataka' 'Maharashtra'\n",
      " 'Punjab' 'Union Territory of Jammu and Kashmir' 'Andhra Pradesh'\n",
      " 'Uttarakhand' 'Odisha' 'Puducherry' 'West Bengal' 'Chhattisgarh'\n",
      " 'Union Territory of Chandigarh' 'Gujarat' 'Chandigarh' 'Himachal Pradesh'\n",
      " 'Jammu and Kashmir' 'Ladakh' 'Madhya Pradesh' 'Bihar' 'Manipur' 'Mizoram'\n",
      " 'Andaman and Nicobar Islands' 'Goa' 'Assam' 'Jharkhand'\n",
      " 'Arunachal Pradesh' 'Tripura' 'Meghalaya'\n",
      " 'Dadra and Nagar Haveli and Daman and Diu' 'Sikkim' 'Nagaland'\n",
      " 'Telangana']\n"
     ]
    }
   ],
   "source": [
    "states=data['State'].unique()\n",
    "print(states)"
   ]
  },
  {
   "cell_type": "code",
   "execution_count": 9,
   "metadata": {},
   "outputs": [
    {
     "data": {
      "text/plain": [
       "39"
      ]
     },
     "execution_count": 9,
     "metadata": {},
     "output_type": "execute_result"
    }
   ],
   "source": [
    "data['State'].nunique()\n"
   ]
  },
  {
   "cell_type": "code",
   "execution_count": 10,
   "metadata": {
    "scrolled": true
   },
   "outputs": [
    {
     "data": {
      "text/plain": [
       "Date                         3125\n",
       "State                        3125\n",
       "Latitude                     3125\n",
       "Longitude                    3125\n",
       "Total Confirmed cases        3125\n",
       "Death                        3125\n",
       "Cured/Discharged/Migrated    3125\n",
       "New cases                    3125\n",
       "New deaths                   3125\n",
       "New recovered                3125\n",
       "dtype: int64"
      ]
     },
     "execution_count": 10,
     "metadata": {},
     "output_type": "execute_result"
    }
   ],
   "source": [
    "data.count()"
   ]
  },
  {
   "cell_type": "code",
   "execution_count": null,
   "metadata": {
    "scrolled": true
   },
   "outputs": [],
   "source": []
  },
  {
   "cell_type": "code",
   "execution_count": 30,
   "metadata": {},
   "outputs": [],
   "source": [
    "data1=data[(data.Latitude == 10.8505) & (data.Longitude == 76.2711)]\n"
   ]
  },
  {
   "cell_type": "code",
   "execution_count": 72,
   "metadata": {},
   "outputs": [],
   "source": [
    "total_case=data1['New cases'].sum()"
   ]
  },
  {
   "cell_type": "code",
   "execution_count": 73,
   "metadata": {},
   "outputs": [
    {
     "name": "stdout",
     "output_type": "stream",
     "text": [
      "2696\n"
     ]
    }
   ],
   "source": [
    "print(total_case)"
   ]
  },
  {
   "cell_type": "code",
   "execution_count": 76,
   "metadata": {},
   "outputs": [],
   "source": [
    "total_recovered=data1['New recovered'].sum()"
   ]
  },
  {
   "cell_type": "code",
   "execution_count": 77,
   "metadata": {},
   "outputs": [
    {
     "name": "stdout",
     "output_type": "stream",
     "text": [
      "1326\n"
     ]
    }
   ],
   "source": [
    "print(total_recovered)"
   ]
  },
  {
   "cell_type": "code",
   "execution_count": 18,
   "metadata": {},
   "outputs": [],
   "source": [
    "dict={}\n",
    "for i in states:\n",
    "    data2=data[data.State==i]\n",
    "    total=data2['New cases'].sum()\n",
    "    recovered=data2['New recovered'].sum()\n",
    "    death=data2['New deaths'].sum()\n",
    "    \n",
    "    if i not in dict:\n",
    "        dict[i]={}\n",
    "        dict[i]['total']=total\n",
    "        dict[i]['recovered']=recovered\n",
    "        dict[i]['death']=death\n",
    "        \n",
    "    else:\n",
    "        dict[i]['total']+=total\n",
    "        dict[i]['recovered']+=recoverded\n",
    "        dict[i]['death']+=death\n",
    "    "
   ]
  },
  {
   "cell_type": "code",
   "execution_count": 19,
   "metadata": {},
   "outputs": [
    {
     "name": "stdout",
     "output_type": "stream",
     "text": [
      "{'Kerala': {'total': 2696, 'recovered': 1326, 'death': 20}, 'Delhi': {'total': 47101, 'recovered': 17457, 'death': 1904}, 'Telengana': {'total': 4110, 'recovered': 1817, 'death': 156}, 'Haryana': {'total': 8818, 'recovered': 3952, 'death': 130}, 'Rajasthan': {'total': 13541, 'recovered': 10467, 'death': 313}, 'Uttar Pradesh': {'total': 14592, 'recovered': 8904, 'death': 435}, 'Tamil Nadu': {'total': 50192, 'recovered': 27624, 'death': 576}, 'Union Territory of Ladakh': {'total': 8, 'recovered': 0, 'death': 0}, 'Karnataka': {'total': 7733, 'recovered': 4804, 'death': 102}, 'Maharashtra': {'total': 116754, 'recovered': 59166, 'death': 5651}, 'Punjab': {'total': 3496, 'recovered': 2538, 'death': 78}, 'Union Territory of Jammu and Kashmir': {'total': 3, 'recovered': 0, 'death': 0}, 'Andhra Pradesh': {'total': 7070, 'recovered': 3641, 'death': 90}, 'Uttarakhand': {'total': 2022, 'recovered': 1254, 'death': 26}, 'Odisha': {'total': 4337, 'recovered': 3047, 'death': 11}, 'Puducherry': {'total': 244, 'recovered': 109, 'death': 7}, 'West Bengal': {'total': 12299, 'recovered': 6533, 'death': 506}, 'Chhattisgarh': {'total': 1863, 'recovered': 1180, 'death': 10}, 'Union Territory of Chandigarh': {'total': 0, 'recovered': 0, 'death': 0}, 'Gujarat': {'total': 25091, 'recovered': 17430, 'death': 1560}, 'Chandigarh': {'total': 367, 'recovered': 303, 'death': 6}, 'Himachal Pradesh': {'total': 567, 'recovered': 372, 'death': 8}, 'Jammu and Kashmir': {'total': 5402, 'recovered': 2914, 'death': 65}, 'Ladakh': {'total': 674, 'recovered': 92, 'death': 1}, 'Madhya Pradesh': {'total': 11240, 'recovered': 8388, 'death': 482}, 'Bihar': {'total': 6940, 'recovered': 4926, 'death': 43}, 'Manipur': {'total': 552, 'recovered': 192, 'death': 0}, 'Mizoram': {'total': 120, 'recovered': 1, 'death': 0}, 'Andaman and Nicobar Islands': {'total': 43, 'recovered': 33, 'death': 0}, 'Goa': {'total': 653, 'recovered': 96, 'death': 0}, 'Assam': {'total': 4612, 'recovered': 2642, 'death': 8}, 'Jharkhand': {'total': 1895, 'recovered': 1151, 'death': 10}, 'Arunachal Pradesh': {'total': 98, 'recovered': 7, 'death': 0}, 'Tripura': {'total': 1134, 'recovered': 556, 'death': 1}, 'Meghalaya': {'total': 43, 'recovered': 30, 'death': 1}, 'Dadra and Nagar Haveli and Daman and Diu': {'total': 56, 'recovered': 12, 'death': 0}, 'Sikkim': {'total': 69, 'recovered': 4, 'death': 0}, 'Nagaland': {'total': 190, 'recovered': 103, 'death': 0}, 'Telangana': {'total': 1355, 'recovered': 1078, 'death': 27}}\n"
     ]
    }
   ],
   "source": [
    "print(dict)"
   ]
  },
  {
   "cell_type": "code",
   "execution_count": 28,
   "metadata": {},
   "outputs": [
    {
     "name": "stdout",
     "output_type": "stream",
     "text": [
      "dict_values([{'total': 2696, 'recovered': 1326, 'death': 20}, {'total': 47101, 'recovered': 17457, 'death': 1904}, {'total': 4110, 'recovered': 1817, 'death': 156}, {'total': 8818, 'recovered': 3952, 'death': 130}, {'total': 13541, 'recovered': 10467, 'death': 313}, {'total': 14592, 'recovered': 8904, 'death': 435}, {'total': 50192, 'recovered': 27624, 'death': 576}, {'total': 8, 'recovered': 0, 'death': 0}, {'total': 7733, 'recovered': 4804, 'death': 102}, {'total': 116754, 'recovered': 59166, 'death': 5651}, {'total': 3496, 'recovered': 2538, 'death': 78}, {'total': 3, 'recovered': 0, 'death': 0}, {'total': 7070, 'recovered': 3641, 'death': 90}, {'total': 2022, 'recovered': 1254, 'death': 26}, {'total': 4337, 'recovered': 3047, 'death': 11}, {'total': 244, 'recovered': 109, 'death': 7}, {'total': 12299, 'recovered': 6533, 'death': 506}, {'total': 1863, 'recovered': 1180, 'death': 10}, {'total': 0, 'recovered': 0, 'death': 0}, {'total': 25091, 'recovered': 17430, 'death': 1560}, {'total': 367, 'recovered': 303, 'death': 6}, {'total': 567, 'recovered': 372, 'death': 8}, {'total': 5402, 'recovered': 2914, 'death': 65}, {'total': 674, 'recovered': 92, 'death': 1}, {'total': 11240, 'recovered': 8388, 'death': 482}, {'total': 6940, 'recovered': 4926, 'death': 43}, {'total': 552, 'recovered': 192, 'death': 0}, {'total': 120, 'recovered': 1, 'death': 0}, {'total': 43, 'recovered': 33, 'death': 0}, {'total': 653, 'recovered': 96, 'death': 0}, {'total': 4612, 'recovered': 2642, 'death': 8}, {'total': 1895, 'recovered': 1151, 'death': 10}, {'total': 98, 'recovered': 7, 'death': 0}, {'total': 1134, 'recovered': 556, 'death': 1}, {'total': 43, 'recovered': 30, 'death': 1}, {'total': 56, 'recovered': 12, 'death': 0}, {'total': 69, 'recovered': 4, 'death': 0}, {'total': 190, 'recovered': 103, 'death': 0}, {'total': 1355, 'recovered': 1078, 'death': 27}])\n"
     ]
    }
   ],
   "source": [
    "keys=dict.keys()\n",
    "values=dict.values()"
   ]
  },
  {
   "cell_type": "code",
   "execution_count": 46,
   "metadata": {},
   "outputs": [
    {
     "data": {
      "image/png": "[encoded data removed]",
      "text/plain": [
       "<Figure size 432x288 with 1 Axes>"
      ]
     },
     "metadata": {
      "needs_background": "light"
     },
     "output_type": "display_data"
    }
   ],
   "source": [
    "\n",
    "pd.DataFrame(dict).T.plot(kind='bar')\n",
    "\n",
    "\n",
    "plt.show()\n"
   ]
  },
  {
   "cell_type": "code",
   "execution_count": null,
   "metadata": {},
   "outputs": [],
   "source": []
  },
  {
   "cell_type": "code",
   "execution_count": null,
   "metadata": {},
   "outputs": [],
   "source": []
  }
 ],
 "metadata": {
  "kernelspec": {
   "display_name": "Python 3",
   "language": "python",
   "name": "python3"
  },
  "language_info": {
   "codemirror_mode": {
    "name": "ipython",
    "version": 3
   },
   "file_extension": ".py",
   "mimetype": "text/x-python",
   "name": "python",
   "nbconvert_exporter": "python",
   "pygments_lexer": "ipython3",
   "version": "3.8.5"
  }
 },
 "nbformat": 4,
 "nbformat_minor": 4
}
